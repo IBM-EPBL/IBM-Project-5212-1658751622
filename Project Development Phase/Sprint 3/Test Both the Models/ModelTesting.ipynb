{
 "cells": [
  {
   "cell_type": "code",
   "execution_count": 1,
   "id": "dc5412b1",
   "metadata": {},
   "outputs": [],
   "source": [
    "from tensorflow.keras.models import load_model\n",
    "from tensorflow.keras.preprocessing import image\n",
    "import numpy as np"
   ]
  },
  {
   "cell_type": "markdown",
   "id": "3bfdda0a",
   "metadata": {},
   "source": [
    "## Testing Fruit Model"
   ]
  },
  {
   "cell_type": "code",
   "execution_count": 2,
   "id": "f9aa2f1e",
   "metadata": {},
   "outputs": [],
   "source": [
    "model=load_model('fruitdata.h5')"
   ]
  },
  {
   "cell_type": "code",
   "execution_count": 3,
   "id": "866712f1",
   "metadata": {},
   "outputs": [],
   "source": [
    "img=image.load_img(r'C:\\Users\\LENOVO\\Downloads\\Data Collection\\Dataset Plant Disease\\fruit-dataset\\fruit-dataset\\test\\Peach___Bacterial_spot\\0e37dd9c-c73d-403b-81c9-60c108607d1a___Rutg._Bact.S 1610.JPG',target_size=(128,128))"
   ]
  },
  {
   "cell_type": "code",
   "execution_count": 4,
   "id": "1cc68ff2",
   "metadata": {},
   "outputs": [],
   "source": [
    "x=image.img_to_array(img)"
   ]
  },
  {
   "cell_type": "code",
   "execution_count": 5,
   "id": "c4e4a14a",
   "metadata": {},
   "outputs": [],
   "source": [
    "x=np.expand_dims(x,axis=0)"
   ]
  },
  {
   "cell_type": "code",
   "execution_count": 6,
   "id": "afda8172",
   "metadata": {},
   "outputs": [
    {
     "name": "stdout",
     "output_type": "stream",
     "text": [
      "1/1 [==============================] - 0s 277ms/step\n"
     ]
    }
   ],
   "source": [
    "pred=model.predict(x)"
   ]
  },
  {
   "cell_type": "code",
   "execution_count": 7,
   "id": "7875f1d9",
   "metadata": {},
   "outputs": [
    {
     "data": {
      "text/plain": [
       "array([[0., 0., 0., 0., 1., 0.]], dtype=float32)"
      ]
     },
     "execution_count": 7,
     "metadata": {},
     "output_type": "execute_result"
    }
   ],
   "source": [
    "pred"
   ]
  },
  {
   "cell_type": "code",
   "execution_count": 8,
   "id": "f5537eda",
   "metadata": {},
   "outputs": [],
   "source": [
    "list=['Apple___Black_rot','Apple___healthy','Corn_(maize)___healthy','Corn_(maize)___Northern_Leaf_Blight','Peach___Bacterial_spot','Peach___healthy']"
   ]
  },
  {
   "cell_type": "code",
   "execution_count": 9,
   "id": "4df6e134",
   "metadata": {},
   "outputs": [
    {
     "name": "stdout",
     "output_type": "stream",
     "text": [
      "Peach___Bacterial_spot\n"
     ]
    }
   ],
   "source": [
    "print(list[np.argmax(pred)])"
   ]
  },
  {
   "cell_type": "markdown",
   "id": "cb6aef7f",
   "metadata": {},
   "source": [
    "## Testing Vegetable Model\n"
   ]
  },
  {
   "cell_type": "code",
   "execution_count": 11,
   "id": "44458497",
   "metadata": {},
   "outputs": [],
   "source": [
    "model=load_model('vegetabledata.h5')"
   ]
  },
  {
   "cell_type": "code",
   "execution_count": 12,
   "id": "dda75c15",
   "metadata": {},
   "outputs": [],
   "source": [
    "img=image.load_img(r'C:\\Users\\LENOVO\\Downloads\\Data Collection\\Dataset Plant Disease\\Veg-dataset\\Veg-dataset\\test_set\\Tomato___Late_blight\\c5b2af5b-c27f-4ed3-83e5-e2bfe096f024___RS_Late.B 6918.JPG',target_size=(128,128))"
   ]
  },
  {
   "cell_type": "code",
   "execution_count": 13,
   "id": "624c44e5",
   "metadata": {},
   "outputs": [],
   "source": [
    "x=image.img_to_array(img)"
   ]
  },
  {
   "cell_type": "code",
   "execution_count": 14,
   "id": "838d95c1",
   "metadata": {},
   "outputs": [],
   "source": [
    "x=np.expand_dims(x,axis=0)"
   ]
  },
  {
   "cell_type": "code",
   "execution_count": 15,
   "id": "bb91edd5",
   "metadata": {},
   "outputs": [
    {
     "name": "stdout",
     "output_type": "stream",
     "text": [
      "1/1 [==============================] - 0s 240ms/step\n"
     ]
    }
   ],
   "source": [
    "pred=model.predict(x)"
   ]
  },
  {
   "cell_type": "code",
   "execution_count": 16,
   "id": "eb2b7831",
   "metadata": {},
   "outputs": [
    {
     "data": {
      "text/plain": [
       "array([[1., 0., 0., 0., 0., 0., 0., 0., 0.]], dtype=float32)"
      ]
     },
     "execution_count": 16,
     "metadata": {},
     "output_type": "execute_result"
    }
   ],
   "source": [
    "pred"
   ]
  },
  {
   "cell_type": "code",
   "execution_count": 17,
   "id": "9c2107d2",
   "metadata": {},
   "outputs": [],
   "source": [
    "list=['Pepper,_bell___Bacterial_spot','Pepper,_bell___healthy','Potato___Early_blight','Potato___healthy','Potato___Late_blight','Tomato___Bacterial_spot','Tomato___Late_blight','Tomato___Leaf_Mold','Tomato___Septoria_leaf_spot']"
   ]
  },
  {
   "cell_type": "code",
   "execution_count": 18,
   "id": "5925ad22",
   "metadata": {},
   "outputs": [
    {
     "name": "stdout",
     "output_type": "stream",
     "text": [
      "Pepper,_bell___Bacterial_spot\n"
     ]
    }
   ],
   "source": [
    "print(list[np.argmax(pred)])"
   ]
  },
  {
   "cell_type": "markdown",
   "id": "32da9b5b",
   "metadata": {},
   "source": [
    "# Models Testing is done successfully"
   ]
  }
 ],
 "metadata": {
  "kernelspec": {
   "display_name": "Python 3 (ipykernel)",
   "language": "python",
   "name": "python3"
  },
  "language_info": {
   "codemirror_mode": {
    "name": "ipython",
    "version": 3
   },
   "file_extension": ".py",
   "mimetype": "text/x-python",
   "name": "python",
   "nbconvert_exporter": "python",
   "pygments_lexer": "ipython3",
   "version": "3.9.12"
  }
 },
 "nbformat": 4,
 "nbformat_minor": 5
}
